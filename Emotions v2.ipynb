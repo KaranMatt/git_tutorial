{
 "cells": [
  {
   "cell_type": "code",
   "execution_count": 1,
   "id": "8e86c8d8",
   "metadata": {},
   "outputs": [
    {
     "name": "stdout",
     "output_type": "stream",
     "text": [
      "FIFTH Version\n"
     ]
    }
   ],
   "source": [
    "print('FIFTH Version')"
   ]
  },
  {
   "cell_type": "code",
   "execution_count": 18,
   "id": "9a0017ba",
   "metadata": {},
   "outputs": [
    {
     "data": {
      "text/html": [
       "<div>\n",
       "<style scoped>\n",
       "    .dataframe tbody tr th:only-of-type {\n",
       "        vertical-align: middle;\n",
       "    }\n",
       "\n",
       "    .dataframe tbody tr th {\n",
       "        vertical-align: top;\n",
       "    }\n",
       "\n",
       "    .dataframe thead th {\n",
       "        text-align: right;\n",
       "    }\n",
       "</style>\n",
       "<table border=\"1\" class=\"dataframe\">\n",
       "  <thead>\n",
       "    <tr style=\"text-align: right;\">\n",
       "      <th></th>\n",
       "      <th>Unnamed: 0</th>\n",
       "      <th>text</th>\n",
       "      <th>label</th>\n",
       "    </tr>\n",
       "  </thead>\n",
       "  <tbody>\n",
       "    <tr>\n",
       "      <th>0</th>\n",
       "      <td>0</td>\n",
       "      <td>i just feel really helpless and heavy hearted</td>\n",
       "      <td>4</td>\n",
       "    </tr>\n",
       "    <tr>\n",
       "      <th>1</th>\n",
       "      <td>1</td>\n",
       "      <td>ive enjoyed being able to slouch about relax a...</td>\n",
       "      <td>0</td>\n",
       "    </tr>\n",
       "    <tr>\n",
       "      <th>2</th>\n",
       "      <td>2</td>\n",
       "      <td>i gave up my internship with the dmrg and am f...</td>\n",
       "      <td>4</td>\n",
       "    </tr>\n",
       "    <tr>\n",
       "      <th>3</th>\n",
       "      <td>3</td>\n",
       "      <td>i dont know i feel so lost</td>\n",
       "      <td>0</td>\n",
       "    </tr>\n",
       "    <tr>\n",
       "      <th>4</th>\n",
       "      <td>4</td>\n",
       "      <td>i am a kindergarten teacher and i am thoroughl...</td>\n",
       "      <td>4</td>\n",
       "    </tr>\n",
       "    <tr>\n",
       "      <th>...</th>\n",
       "      <td>...</td>\n",
       "      <td>...</td>\n",
       "      <td>...</td>\n",
       "    </tr>\n",
       "    <tr>\n",
       "      <th>416804</th>\n",
       "      <td>416804</td>\n",
       "      <td>i feel like telling these horny devils to find...</td>\n",
       "      <td>2</td>\n",
       "    </tr>\n",
       "    <tr>\n",
       "      <th>416805</th>\n",
       "      <td>416805</td>\n",
       "      <td>i began to realize that when i was feeling agi...</td>\n",
       "      <td>3</td>\n",
       "    </tr>\n",
       "    <tr>\n",
       "      <th>416806</th>\n",
       "      <td>416806</td>\n",
       "      <td>i feel very curious be why previous early dawn...</td>\n",
       "      <td>5</td>\n",
       "    </tr>\n",
       "    <tr>\n",
       "      <th>416807</th>\n",
       "      <td>416807</td>\n",
       "      <td>i feel that becuase of the tyranical nature of...</td>\n",
       "      <td>3</td>\n",
       "    </tr>\n",
       "    <tr>\n",
       "      <th>416808</th>\n",
       "      <td>416808</td>\n",
       "      <td>i think that after i had spent some time inves...</td>\n",
       "      <td>5</td>\n",
       "    </tr>\n",
       "  </tbody>\n",
       "</table>\n",
       "<p>416809 rows × 3 columns</p>\n",
       "</div>"
      ],
      "text/plain": [
       "        Unnamed: 0                                               text  label\n",
       "0                0      i just feel really helpless and heavy hearted      4\n",
       "1                1  ive enjoyed being able to slouch about relax a...      0\n",
       "2                2  i gave up my internship with the dmrg and am f...      4\n",
       "3                3                         i dont know i feel so lost      0\n",
       "4                4  i am a kindergarten teacher and i am thoroughl...      4\n",
       "...            ...                                                ...    ...\n",
       "416804      416804  i feel like telling these horny devils to find...      2\n",
       "416805      416805  i began to realize that when i was feeling agi...      3\n",
       "416806      416806  i feel very curious be why previous early dawn...      5\n",
       "416807      416807  i feel that becuase of the tyranical nature of...      3\n",
       "416808      416808  i think that after i had spent some time inves...      5\n",
       "\n",
       "[416809 rows x 3 columns]"
      ]
     },
     "execution_count": 18,
     "metadata": {},
     "output_type": "execute_result"
    }
   ],
   "source": [
    "import numpy as np\n",
    "import pandas as pd\n",
    "import tensorflow as tf\n",
    "\n",
    "emo_df=pd.read_csv(\"C:/KM/Datasets/Emotions Data/text.csv\")\n",
    "emo_df"
   ]
  },
  {
   "cell_type": "code",
   "execution_count": 19,
   "id": "d09a734e",
   "metadata": {},
   "outputs": [
    {
     "name": "stdout",
     "output_type": "stream",
     "text": [
      "<class 'pandas.core.frame.DataFrame'>\n",
      "RangeIndex: 416809 entries, 0 to 416808\n",
      "Data columns (total 3 columns):\n",
      " #   Column      Non-Null Count   Dtype \n",
      "---  ------      --------------   ----- \n",
      " 0   Unnamed: 0  416809 non-null  int64 \n",
      " 1   text        416809 non-null  object\n",
      " 2   label       416809 non-null  int64 \n",
      "dtypes: int64(2), object(1)\n",
      "memory usage: 9.5+ MB\n"
     ]
    }
   ],
   "source": [
    "emo_df.info()"
   ]
  },
  {
   "cell_type": "code",
   "execution_count": 20,
   "id": "658ab0db",
   "metadata": {},
   "outputs": [
    {
     "data": {
      "text/html": [
       "<div>\n",
       "<style scoped>\n",
       "    .dataframe tbody tr th:only-of-type {\n",
       "        vertical-align: middle;\n",
       "    }\n",
       "\n",
       "    .dataframe tbody tr th {\n",
       "        vertical-align: top;\n",
       "    }\n",
       "\n",
       "    .dataframe thead th {\n",
       "        text-align: right;\n",
       "    }\n",
       "</style>\n",
       "<table border=\"1\" class=\"dataframe\">\n",
       "  <thead>\n",
       "    <tr style=\"text-align: right;\">\n",
       "      <th></th>\n",
       "      <th>text</th>\n",
       "      <th>label</th>\n",
       "    </tr>\n",
       "  </thead>\n",
       "  <tbody>\n",
       "    <tr>\n",
       "      <th>0</th>\n",
       "      <td>i just feel really helpless and heavy hearted</td>\n",
       "      <td>4</td>\n",
       "    </tr>\n",
       "    <tr>\n",
       "      <th>1</th>\n",
       "      <td>ive enjoyed being able to slouch about relax a...</td>\n",
       "      <td>0</td>\n",
       "    </tr>\n",
       "    <tr>\n",
       "      <th>2</th>\n",
       "      <td>i gave up my internship with the dmrg and am f...</td>\n",
       "      <td>4</td>\n",
       "    </tr>\n",
       "    <tr>\n",
       "      <th>3</th>\n",
       "      <td>i dont know i feel so lost</td>\n",
       "      <td>0</td>\n",
       "    </tr>\n",
       "    <tr>\n",
       "      <th>4</th>\n",
       "      <td>i am a kindergarten teacher and i am thoroughl...</td>\n",
       "      <td>4</td>\n",
       "    </tr>\n",
       "    <tr>\n",
       "      <th>...</th>\n",
       "      <td>...</td>\n",
       "      <td>...</td>\n",
       "    </tr>\n",
       "    <tr>\n",
       "      <th>416804</th>\n",
       "      <td>i feel like telling these horny devils to find...</td>\n",
       "      <td>2</td>\n",
       "    </tr>\n",
       "    <tr>\n",
       "      <th>416805</th>\n",
       "      <td>i began to realize that when i was feeling agi...</td>\n",
       "      <td>3</td>\n",
       "    </tr>\n",
       "    <tr>\n",
       "      <th>416806</th>\n",
       "      <td>i feel very curious be why previous early dawn...</td>\n",
       "      <td>5</td>\n",
       "    </tr>\n",
       "    <tr>\n",
       "      <th>416807</th>\n",
       "      <td>i feel that becuase of the tyranical nature of...</td>\n",
       "      <td>3</td>\n",
       "    </tr>\n",
       "    <tr>\n",
       "      <th>416808</th>\n",
       "      <td>i think that after i had spent some time inves...</td>\n",
       "      <td>5</td>\n",
       "    </tr>\n",
       "  </tbody>\n",
       "</table>\n",
       "<p>416809 rows × 2 columns</p>\n",
       "</div>"
      ],
      "text/plain": [
       "                                                     text  label\n",
       "0           i just feel really helpless and heavy hearted      4\n",
       "1       ive enjoyed being able to slouch about relax a...      0\n",
       "2       i gave up my internship with the dmrg and am f...      4\n",
       "3                              i dont know i feel so lost      0\n",
       "4       i am a kindergarten teacher and i am thoroughl...      4\n",
       "...                                                   ...    ...\n",
       "416804  i feel like telling these horny devils to find...      2\n",
       "416805  i began to realize that when i was feeling agi...      3\n",
       "416806  i feel very curious be why previous early dawn...      5\n",
       "416807  i feel that becuase of the tyranical nature of...      3\n",
       "416808  i think that after i had spent some time inves...      5\n",
       "\n",
       "[416809 rows x 2 columns]"
      ]
     },
     "execution_count": 20,
     "metadata": {},
     "output_type": "execute_result"
    }
   ],
   "source": [
    "emo_df.drop('Unnamed: 0',inplace=True,axis=1)\n",
    "emo_df"
   ]
  },
  {
   "cell_type": "code",
   "execution_count": 21,
   "id": "cb7dd9e8",
   "metadata": {},
   "outputs": [
    {
     "data": {
      "text/plain": [
       "array([4, 0, 2, 1, 5, 3])"
      ]
     },
     "execution_count": 21,
     "metadata": {},
     "output_type": "execute_result"
    }
   ],
   "source": [
    "emo_df['label'].unique()"
   ]
  },
  {
   "cell_type": "code",
   "execution_count": 22,
   "id": "fecc640f",
   "metadata": {},
   "outputs": [],
   "source": [
    "from sklearn.model_selection import train_test_split\n",
    "train_set,val_set=train_test_split(emo_df,test_size=0.25,random_state=42)"
   ]
  },
  {
   "cell_type": "code",
   "execution_count": 23,
   "id": "de34c3c8",
   "metadata": {},
   "outputs": [],
   "source": [
    "train_inputs=train_set['text'].to_numpy()\n",
    "val_inputs=val_set['text'].to_numpy()\n",
    "train_target=train_set['label'].to_numpy()\n",
    "val_target=val_set['label'].to_numpy()"
   ]
  },
  {
   "cell_type": "code",
   "execution_count": 24,
   "id": "c724d27d",
   "metadata": {},
   "outputs": [],
   "source": [
    "from tensorflow.keras.layers import TextVectorization,Embedding"
   ]
  },
  {
   "cell_type": "code",
   "execution_count": 25,
   "id": "80eaa661",
   "metadata": {},
   "outputs": [],
   "source": [
    "text_vectorizer=TextVectorization(max_tokens=None,split='whitespace',standardize='lower_and_strip_punctuation',output_mode='int',output_sequence_length=None,ngrams=None)"
   ]
  },
  {
   "cell_type": "code",
   "execution_count": 26,
   "id": "39d86fc2",
   "metadata": {},
   "outputs": [
    {
     "data": {
      "text/plain": [
       "19"
      ]
     },
     "execution_count": 26,
     "metadata": {},
     "output_type": "execute_result"
    }
   ],
   "source": [
    "round(sum([len(i.split()) for i in train_inputs])/len(train_inputs)) # detrmining output length "
   ]
  },
  {
   "cell_type": "code",
   "execution_count": 27,
   "id": "e63aaad8",
   "metadata": {},
   "outputs": [],
   "source": [
    "max_vocab=10000\n",
    "max_length=20"
   ]
  },
  {
   "cell_type": "code",
   "execution_count": 28,
   "id": "0039b9fd",
   "metadata": {},
   "outputs": [],
   "source": [
    "text_vectorizer=TextVectorization(max_tokens=max_vocab,output_sequence_length=max_length)"
   ]
  },
  {
   "cell_type": "code",
   "execution_count": 29,
   "id": "a8ef07b1",
   "metadata": {},
   "outputs": [],
   "source": [
    "text_vectorizer.adapt(train_inputs)"
   ]
  },
  {
   "cell_type": "code",
   "execution_count": 30,
   "id": "90d775de",
   "metadata": {},
   "outputs": [],
   "source": [
    "embed=Embedding(input_dim=max_vocab,output_dim=128)"
   ]
  },
  {
   "cell_type": "code",
   "execution_count": 31,
   "id": "5901462d",
   "metadata": {},
   "outputs": [],
   "source": [
    "from tensorflow.keras.layers import Input,LSTM,GRU,Bidirectional,GlobalAveragePooling1D,Dense\n",
    "from tensorflow.keras.optimizers import Adam\n",
    "from tensorflow.keras.losses import CategoricalCrossentropy,SparseCategoricalCrossentropy\n",
    "from tensorflow.keras.models import Model"
   ]
  },
  {
   "cell_type": "code",
   "execution_count": 15,
   "id": "327e6e28",
   "metadata": {},
   "outputs": [
    {
     "name": "stdout",
     "output_type": "stream",
     "text": [
      "Epoch 1/5\n",
      "\u001b[1m9769/9769\u001b[0m \u001b[32m━━━━━━━━━━━━━━━━━━━━\u001b[0m\u001b[37m\u001b[0m \u001b[1m60s\u001b[0m 6ms/step - accuracy: 0.7756 - loss: 0.5408 - val_accuracy: 0.8716 - val_loss: 0.2706\n",
      "Epoch 2/5\n",
      "\u001b[1m9769/9769\u001b[0m \u001b[32m━━━━━━━━━━━━━━━━━━━━\u001b[0m\u001b[37m\u001b[0m \u001b[1m62s\u001b[0m 6ms/step - accuracy: 0.8789 - loss: 0.2558 - val_accuracy: 0.8709 - val_loss: 0.2700\n",
      "Epoch 3/5\n",
      "\u001b[1m9769/9769\u001b[0m \u001b[32m━━━━━━━━━━━━━━━━━━━━\u001b[0m\u001b[37m\u001b[0m \u001b[1m63s\u001b[0m 6ms/step - accuracy: 0.8899 - loss: 0.2304 - val_accuracy: 0.8682 - val_loss: 0.2810\n",
      "Epoch 4/5\n",
      "\u001b[1m9769/9769\u001b[0m \u001b[32m━━━━━━━━━━━━━━━━━━━━\u001b[0m\u001b[37m\u001b[0m \u001b[1m59s\u001b[0m 6ms/step - accuracy: 0.9012 - loss: 0.2051 - val_accuracy: 0.8626 - val_loss: 0.3034\n",
      "Epoch 5/5\n",
      "\u001b[1m9769/9769\u001b[0m \u001b[32m━━━━━━━━━━━━━━━━━━━━\u001b[0m\u001b[37m\u001b[0m \u001b[1m58s\u001b[0m 6ms/step - accuracy: 0.9099 - loss: 0.1836 - val_accuracy: 0.8569 - val_loss: 0.3250\n"
     ]
    },
    {
     "data": {
      "text/plain": [
       "<keras.src.callbacks.history.History at 0x249532bb810>"
      ]
     },
     "execution_count": 15,
     "metadata": {},
     "output_type": "execute_result"
    }
   ],
   "source": [
    "inputs=Input(shape=(1,),dtype=tf.string)\n",
    "x=text_vectorizer(inputs)\n",
    "x=embed(x)\n",
    "x=GRU(48,activation='tanh')(x)\n",
    "outputs=Dense(6,activation='softmax')(x)\n",
    "model_1=Model(inputs,outputs)\n",
    "model_1.compile(loss=CategoricalCrossentropy(),optimizer=Adam(),metrics=['accuracy'])\n",
    "model_1.fit(train_inputs,tf.one_hot(train_target,depth=6),epochs=5,validation_data=(val_inputs,tf.one_hot(val_target,depth=6)))"
   ]
  },
  {
   "cell_type": "code",
   "execution_count": 16,
   "id": "7bd060d9",
   "metadata": {},
   "outputs": [
    {
     "name": "stdout",
     "output_type": "stream",
     "text": [
      "Epoch 1/5\n",
      "\u001b[1m9769/9769\u001b[0m \u001b[32m━━━━━━━━━━━━━━━━━━━━\u001b[0m\u001b[37m\u001b[0m \u001b[1m59s\u001b[0m 6ms/step - accuracy: 0.8483 - loss: 0.3710 - precision: 0.9184 - recall: 0.7903 - val_accuracy: 0.8613 - val_loss: 0.3018 - val_precision: 0.9011 - val_recall: 0.8424\n",
      "Epoch 2/5\n",
      "\u001b[1m9769/9769\u001b[0m \u001b[32m━━━━━━━━━━━━━━━━━━━━\u001b[0m\u001b[37m\u001b[0m \u001b[1m58s\u001b[0m 6ms/step - accuracy: 0.9022 - loss: 0.2048 - precision: 0.9299 - recall: 0.8806 - val_accuracy: 0.8617 - val_loss: 0.3040 - val_precision: 0.9037 - val_recall: 0.8413\n",
      "Epoch 3/5\n",
      "\u001b[1m9769/9769\u001b[0m \u001b[32m━━━━━━━━━━━━━━━━━━━━\u001b[0m\u001b[37m\u001b[0m \u001b[1m60s\u001b[0m 6ms/step - accuracy: 0.9123 - loss: 0.1799 - precision: 0.9332 - recall: 0.8958 - val_accuracy: 0.8596 - val_loss: 0.3394 - val_precision: 0.8884 - val_recall: 0.8460\n",
      "Epoch 4/5\n",
      "\u001b[1m9769/9769\u001b[0m \u001b[32m━━━━━━━━━━━━━━━━━━━━\u001b[0m\u001b[37m\u001b[0m \u001b[1m60s\u001b[0m 6ms/step - accuracy: 0.9191 - loss: 0.1631 - precision: 0.9349 - recall: 0.9060 - val_accuracy: 0.8564 - val_loss: 0.3646 - val_precision: 0.8834 - val_recall: 0.8446\n",
      "Epoch 5/5\n",
      "\u001b[1m9769/9769\u001b[0m \u001b[32m━━━━━━━━━━━━━━━━━━━━\u001b[0m\u001b[37m\u001b[0m \u001b[1m57s\u001b[0m 6ms/step - accuracy: 0.9237 - loss: 0.1497 - precision: 0.9363 - recall: 0.9138 - val_accuracy: 0.8499 - val_loss: 0.3938 - val_precision: 0.8733 - val_recall: 0.8412\n"
     ]
    },
    {
     "data": {
      "text/plain": [
       "<keras.src.callbacks.history.History at 0x24959980e50>"
      ]
     },
     "execution_count": 16,
     "metadata": {},
     "output_type": "execute_result"
    }
   ],
   "source": [
    "inputs=Input(shape=(1,),dtype=tf.string)\n",
    "x=text_vectorizer(inputs)\n",
    "x=embed(x)\n",
    "x=LSTM(48,activation='tanh')(x)\n",
    "outputs=Dense(6,activation='softmax')(x)\n",
    "model_2=Model(inputs,outputs)\n",
    "model_2.compile(loss=CategoricalCrossentropy(),optimizer=Adam(),metrics=['accuracy','precision','recall'])\n",
    "model_2.fit(train_inputs,tf.one_hot(train_target,depth=6),epochs=5,validation_data=(val_inputs,tf.one_hot(val_target,depth=6)))"
   ]
  },
  {
   "cell_type": "code",
   "execution_count": 32,
   "id": "36797d50",
   "metadata": {},
   "outputs": [
    {
     "name": "stdout",
     "output_type": "stream",
     "text": [
      "Epoch 1/5\n",
      "\u001b[1m9769/9769\u001b[0m \u001b[32m━━━━━━━━━━━━━━━━━━━━\u001b[0m\u001b[37m\u001b[0m \u001b[1m75s\u001b[0m 7ms/step - accuracy: 0.7884 - loss: 0.5227 - precision: 0.8951 - recall: 0.7061 - val_accuracy: 0.8686 - val_loss: 0.2737 - val_precision: 0.9367 - val_recall: 0.8277\n",
      "Epoch 2/5\n",
      "\u001b[1m9769/9769\u001b[0m \u001b[32m━━━━━━━━━━━━━━━━━━━━\u001b[0m\u001b[37m\u001b[0m \u001b[1m69s\u001b[0m 7ms/step - accuracy: 0.8800 - loss: 0.2562 - precision: 0.9340 - recall: 0.8432 - val_accuracy: 0.8671 - val_loss: 0.2738 - val_precision: 0.9237 - val_recall: 0.8349\n",
      "Epoch 3/5\n",
      "\u001b[1m9769/9769\u001b[0m \u001b[32m━━━━━━━━━━━━━━━━━━━━\u001b[0m\u001b[37m\u001b[0m \u001b[1m69s\u001b[0m 7ms/step - accuracy: 0.8925 - loss: 0.2271 - precision: 0.9305 - recall: 0.8640 - val_accuracy: 0.8649 - val_loss: 0.2854 - val_precision: 0.9133 - val_recall: 0.8382\n",
      "Epoch 4/5\n",
      "\u001b[1m9769/9769\u001b[0m \u001b[32m━━━━━━━━━━━━━━━━━━━━\u001b[0m\u001b[37m\u001b[0m \u001b[1m73s\u001b[0m 7ms/step - accuracy: 0.9034 - loss: 0.1988 - precision: 0.9294 - recall: 0.8827 - val_accuracy: 0.8623 - val_loss: 0.3122 - val_precision: 0.8949 - val_recall: 0.8459\n",
      "Epoch 5/5\n",
      "\u001b[1m9769/9769\u001b[0m \u001b[32m━━━━━━━━━━━━━━━━━━━━\u001b[0m\u001b[37m\u001b[0m \u001b[1m77s\u001b[0m 8ms/step - accuracy: 0.9167 - loss: 0.1715 - precision: 0.9343 - recall: 0.9021 - val_accuracy: 0.8608 - val_loss: 0.3389 - val_precision: 0.8895 - val_recall: 0.8470\n"
     ]
    },
    {
     "data": {
      "text/plain": [
       "<keras.src.callbacks.history.History at 0x2496b712550>"
      ]
     },
     "execution_count": 32,
     "metadata": {},
     "output_type": "execute_result"
    }
   ],
   "source": [
    "inputs=Input(shape=(1,),dtype=tf.string)\n",
    "x=text_vectorizer(inputs)\n",
    "x=embed(x)\n",
    "x=Bidirectional(GRU(40,activation='tanh'))(x)\n",
    "outputs=Dense(6,activation='softmax')(x)\n",
    "model_3=Model(inputs,outputs)\n",
    "model_3.compile(loss=CategoricalCrossentropy(),optimizer=Adam(),metrics=['accuracy','precision','recall'])\n",
    "model_3.fit(train_inputs,tf.one_hot(train_target,depth=6),epochs=5,validation_data=(val_inputs,tf.one_hot(val_target,depth=6)))"
   ]
  },
  {
   "cell_type": "code",
   "execution_count": 33,
   "id": "e802790b",
   "metadata": {},
   "outputs": [
    {
     "name": "stdout",
     "output_type": "stream",
     "text": [
      "Epoch 1/5\n",
      "\u001b[1m9769/9769\u001b[0m \u001b[32m━━━━━━━━━━━━━━━━━━━━\u001b[0m\u001b[37m\u001b[0m \u001b[1m76s\u001b[0m 8ms/step - accuracy: 0.8576 - loss: 0.3474 - precision: 0.9147 - recall: 0.8113 - val_accuracy: 0.8604 - val_loss: 0.3070 - val_precision: 0.9016 - val_recall: 0.8401\n",
      "Epoch 2/5\n",
      "\u001b[1m9769/9769\u001b[0m \u001b[32m━━━━━━━━━━━━━━━━━━━━\u001b[0m\u001b[37m\u001b[0m \u001b[1m72s\u001b[0m 7ms/step - accuracy: 0.9064 - loss: 0.1934 - precision: 0.9291 - recall: 0.8887 - val_accuracy: 0.8551 - val_loss: 0.3252 - val_precision: 0.8903 - val_recall: 0.8388\n",
      "Epoch 3/5\n",
      "\u001b[1m9769/9769\u001b[0m \u001b[32m━━━━━━━━━━━━━━━━━━━━\u001b[0m\u001b[37m\u001b[0m \u001b[1m72s\u001b[0m 7ms/step - accuracy: 0.9166 - loss: 0.1692 - precision: 0.9331 - recall: 0.9031 - val_accuracy: 0.8560 - val_loss: 0.3620 - val_precision: 0.8839 - val_recall: 0.8433\n",
      "Epoch 4/5\n",
      "\u001b[1m9769/9769\u001b[0m \u001b[32m━━━━━━━━━━━━━━━━━━━━\u001b[0m\u001b[37m\u001b[0m \u001b[1m72s\u001b[0m 7ms/step - accuracy: 0.9245 - loss: 0.1487 - precision: 0.9366 - recall: 0.9145 - val_accuracy: 0.8556 - val_loss: 0.3983 - val_precision: 0.8761 - val_recall: 0.8467\n",
      "Epoch 5/5\n",
      "\u001b[1m9769/9769\u001b[0m \u001b[32m━━━━━━━━━━━━━━━━━━━━\u001b[0m\u001b[37m\u001b[0m \u001b[1m72s\u001b[0m 7ms/step - accuracy: 0.9304 - loss: 0.1329 - precision: 0.9390 - recall: 0.9231 - val_accuracy: 0.8516 - val_loss: 0.4302 - val_precision: 0.8689 - val_recall: 0.8444\n"
     ]
    },
    {
     "data": {
      "text/plain": [
       "<keras.src.callbacks.history.History at 0x249adfd67d0>"
      ]
     },
     "execution_count": 33,
     "metadata": {},
     "output_type": "execute_result"
    }
   ],
   "source": [
    "inputs=Input(shape=(1,),dtype=tf.string)\n",
    "x=text_vectorizer(inputs)\n",
    "x=embed(x)\n",
    "x=Bidirectional(LSTM(40,activation='tanh'))(x)\n",
    "outputs=Dense(6,activation='softmax')(x)\n",
    "model_4=Model(inputs,outputs)\n",
    "model_4.compile(loss=CategoricalCrossentropy(),optimizer=Adam(),metrics=['accuracy','precision','recall'])\n",
    "model_4.fit(train_inputs,tf.one_hot(train_target,depth=6),epochs=5,validation_data=(val_inputs,tf.one_hot(val_target,depth=6)))"
   ]
  },
  {
   "cell_type": "code",
   "execution_count": 34,
   "id": "512c0f95",
   "metadata": {},
   "outputs": [
    {
     "name": "stdout",
     "output_type": "stream",
     "text": [
      "\u001b[1m3257/3257\u001b[0m \u001b[32m━━━━━━━━━━━━━━━━━━━━\u001b[0m\u001b[37m\u001b[0m \u001b[1m6s\u001b[0m 2ms/step - accuracy: 0.8566 - loss: 0.3941\n"
     ]
    },
    {
     "data": {
      "text/plain": [
       "[0.3960111141204834, 0.856568455696106]"
      ]
     },
     "execution_count": 34,
     "metadata": {},
     "output_type": "execute_result"
    }
   ],
   "source": [
    "model_1.evaluate(val_inputs,tf.one_hot(val_target,depth=6))"
   ]
  },
  {
   "cell_type": "code",
   "execution_count": null,
   "id": "5ddb4f8f",
   "metadata": {},
   "outputs": [],
   "source": []
  }
 ],
 "metadata": {
  "kernelspec": {
   "display_name": "Python 3",
   "language": "python",
   "name": "python3"
  },
  "language_info": {
   "codemirror_mode": {
    "name": "ipython",
    "version": 3
   },
   "file_extension": ".py",
   "mimetype": "text/x-python",
   "name": "python",
   "nbconvert_exporter": "python",
   "pygments_lexer": "ipython3",
   "version": "3.11.9"
  }
 },
 "nbformat": 4,
 "nbformat_minor": 5
}
